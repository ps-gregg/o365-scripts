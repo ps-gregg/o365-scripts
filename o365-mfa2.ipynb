{
    "metadata": {
        "kernelspec": {
            "name": "powershell",
            "display_name": "PowerShell",
            "language": "powershell"
        },
        "language_info": {
            "name": "powershell",
            "codemirror_mode": "shell",
            "mimetype": "text/x-sh",
            "file_extension": ".ps1"
        }
    },
    "nbformat_minor": 2,
    "nbformat": 4,
    "cells": [
        {
            "cell_type": "markdown",
            "source": [
                "### Connect to Office 365"
            ],
            "metadata": {
                "azdata_cell_guid": "f0321aab-b12d-4209-84fb-d4e30cc900e4"
            }
        },
        {
            "cell_type": "code",
            "source": [
                "Connect-MsolService –Credential $Credential"
            ],
            "metadata": {
                "azdata_cell_guid": "87e8c02c-b9bf-4cc9-a81d-4e6f0980b968"
            },
            "outputs": [],
            "execution_count": null
        },
        {
            "cell_type": "markdown",
            "source": [
                "### Retrieve MFA settings for a specific user"
            ],
            "metadata": {
                "azdata_cell_guid": "6df96909-ba24-4705-9b62-02c9e3ab415c"
            }
        },
        {
            "cell_type": "code",
            "source": [
                "Get-MsolUser -UserPrincipalName 'user@xxxxx.com'  | select -ExpandProperty StrongAuthenticationRequirements"
            ],
            "metadata": {
                "azdata_cell_guid": "c108bb2d-21b0-4486-a4b0-6e920545802c"
            },
            "outputs": [],
            "execution_count": null
        },
        {
            "cell_type": "markdown",
            "source": [
                "### Enable MFA for a specific user"
            ],
            "metadata": {
                "azdata_cell_guid": "4b0e0eb6-6e79-4c06-bf21-77a3668e6982"
            }
        },
        {
            "cell_type": "code",
            "source": [
                "$auth = New-Object -TypeName Microsoft.Online.Administration.StrongAuthenticationRequirement\r\n",
                "$auth.RelyingParty = \"*\"\r\n",
                "$auth.State = \"Enforced\"\r\n",
                "$auth.RememberDevicesNotIssuedBefore = (Get-Date(\"2/1/2017\"))\r\n",
                "\r\n",
                "Set-MsolUser -UserPrincipalName 'user@xxxxx.com' -StrongAuthenticationRequirements $auth"
            ],
            "metadata": {
                "azdata_cell_guid": "e7ce1c04-93b8-403e-af83-3b80716f711a"
            },
            "outputs": [],
            "execution_count": null
        },
        {
            "cell_type": "markdown",
            "source": [
                "### Disable MFA for a specific user"
            ],
            "metadata": {
                "azdata_cell_guid": "d293c155-adef-420b-9ec1-fa884cd64295"
            }
        },
        {
            "cell_type": "code",
            "source": [
                "Set-MsolUser -UserPrincipalName 'user@xxxxx.com' -StrongAuthenticationRequirements @()"
            ],
            "metadata": {
                "azdata_cell_guid": "3e5604b3-f90b-470e-8fbb-838c89f6b2d5"
            },
            "outputs": [],
            "execution_count": null
        }
    ]
}