{
    "metadata": {
        "kernelspec": {
            "name": "powershell",
            "display_name": "PowerShell",
            "language": "powershell"
        },
        "language_info": {
            "name": "powershell",
            "codemirror_mode": "shell",
            "mimetype": "text/x-sh",
            "file_extension": ".ps1"
        }
    },
    "nbformat_minor": 2,
    "nbformat": 4,
    "cells": [
        {
            "cell_type": "markdown",
            "source": [
                "### Create a new Office 365 Group and edit members/owners"
            ],
            "metadata": {
                "azdata_cell_guid": "9cddfaa1-30cd-475c-a35c-7defe0898dbd"
            },
            "attachments": {}
        },
        {
            "cell_type": "code",
            "source": [
                "# Variable for the Office 365 group name\r\n",
                "$grpIdentity = 'TheGroupName'\r\n",
                "\r\n",
                "# Create a new Office 365 group with owner\r\n",
                "New-UnifiedGroup -DisplayName $grpIdentity -Owner owner1@host.org\r\n",
                "\r\n",
                "#Add a person as an member to an Office 365 group \r\n",
                "Add-UnifiedGroupLinks -Identity $grpIdentity -Links member1@host.org -LinkType Member\r\n",
                "\r\n",
                "#Add a person as an owner to an Office 365 group \r\n",
                "Add-UnifiedGroupLinks -Identity $grpIdentity -Links owner1@host.org -LinkType Owner\r\n",
                "\r\n",
                "#Remove a person as an member to an Office 365 group \r\n",
                "Remove-UnifiedGroupLinks -Identity $grpIdentity -Links member1@host.org -LinkType Member\r\n",
                "\r\n",
                "#Remove a person as an owner to an Office 365 group \r\n",
                "Remove-UnifiedGroupLinks -Identity $grpIdentity -Links owner1@host.org -LinkType Owner\r\n",
                ""
            ],
            "metadata": {
                "azdata_cell_guid": "067bce07-0c28-429a-a7ab-dcae47d4bf7a"
            },
            "outputs": [],
            "execution_count": null
        },
        {
            "cell_type": "markdown",
            "source": [
                "### Retrieve all Office 365 Group memberships and export to CSV"
            ],
            "metadata": {
                "azdata_cell_guid": "31949133-1a17-47a2-ad1f-c082c7b4adec"
            },
            "attachments": {}
        },
        {
            "cell_type": "code",
            "source": [
                "$o365Groups = Get-UnifiedGroup\r\n",
                "$result = foreach ($grp in $o365Groups) {\r\n",
                "    $Owners = Get-UnifiedGroupLinks -Identity $grp.Identity -LinkType Owners\r\n",
                "    $Members = Get-UnifiedGroupLinks -Identity $grp.Identity -LinkType Members\r\n",
                "    $Subscribers = Get-UnifiedGroupLinks -Identity $grp.Identity -LinkType Subscribers\r\n",
                "    $Aggregators = Get-UnifiedGroupLinks -Identity $grp.Identity -LinkType Aggregators\r\n",
                "    $props = [ordered]@{\r\n",
                "        'Name' = $grp.Identity;\r\n",
                "        'Owners' = $Owners;\r\n",
                "        'Members' = $Members -join '-';\r\n",
                "        'Subscribers' = $Subscribers -join '-';\r\n",
                "        'Aggregators' = $Aggregators -join '-'\r\n",
                "    }\r\n",
                "    New-Object -TypeName PSObject -Property $props\r\n",
                "}\r\n",
                "$result  | Export-Csv output.csv -NoTypeInformation\r\n",
                ""
            ],
            "metadata": {
                "azdata_cell_guid": "963b9a82-05da-415b-b0bf-1c7b837f8fbb"
            },
            "outputs": [],
            "execution_count": null
        },
        {
            "cell_type": "code",
            "source": [
                "# Turn off ability to create groups\r\n",
                "Get-OWAMailboxPolicy -Identity 'OWAMailboxPolicy-Default' | fl GroupCreationEnabled\r\n",
                "Set-OWAMailboxPolicy -Identity 'OWAMailboxPolicy-Default' -GroupCreationEnabled $False\r\n",
                ""
            ],
            "metadata": {
                "azdata_cell_guid": "dec18006-249c-4301-a694-b741a4e2b58d",
                "tags": []
            },
            "outputs": [],
            "execution_count": null
        },
        {
            "cell_type": "markdown",
            "source": [
                "### Turn off the ability to create Office 365 Groups"
            ],
            "metadata": {
                "azdata_cell_guid": "2accd756-8f84-41a8-a065-0ec59010a704"
            },
            "attachments": {}
        }
    ]
}